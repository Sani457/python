{
 "cells": [
  {
   "cell_type": "code",
   "execution_count": 5,
   "metadata": {},
   "outputs": [
    {
     "name": "stdout",
     "output_type": "stream",
     "text": [
      "enter the first no=12.09\n",
      "enter the second no=14.99\n",
      "the sum of12.09 and 14.99 is 27.08 \n"
     ]
    }
   ],
   "source": [
    "num1 = input('enter the first no=')\n",
    "num2 = input('enter the second no=')\n",
    "sum = float(num1)+float(num2)\n",
    "print('the sum of{0} and {1} is {2} '.format(num1,num2,sum))"
   ]
  },
  {
   "cell_type": "code",
   "execution_count": 6,
   "metadata": {},
   "outputs": [
    {
     "name": "stdout",
     "output_type": "stream",
     "text": [
      "enter the first no=30.90\n",
      "enter the second no=20.08\n",
      "the substraction of30.90 and 20.08 is 10.82 \n"
     ]
    }
   ],
   "source": [
    "num1 = input('enter the first no=')\n",
    "num2 = input('enter the second no=')\n",
    "sum = float(num1)-float(num2)\n",
    "print('the substraction of{0} and {1} is {2} '.format(num1,num2,sum))"
   ]
  },
  {
   "cell_type": "code",
   "execution_count": 7,
   "metadata": {},
   "outputs": [
    {
     "name": "stdout",
     "output_type": "stream",
     "text": [
      "enter the first no12.09\n",
      "enter the second no9.00\n",
      "the Multiplication of12.09 and 9.00 is 108.81 \n"
     ]
    }
   ],
   "source": [
    "num1 = input('enter the first no')\n",
    "num2 = input('enter the second no')\n",
    "sum = float(num1)*float(num2)\n",
    "print('the Multiplication of{0} and {1} is {2} '.format(num1,num2,sum))"
   ]
  },
  {
   "cell_type": "code",
   "execution_count": 8,
   "metadata": {},
   "outputs": [
    {
     "name": "stdout",
     "output_type": "stream",
     "text": [
      "enter the first no15.00\n",
      "enter the second no3.00\n",
      "the Division of15.00 and 3.00 is 5.0 \n"
     ]
    }
   ],
   "source": [
    "num1 = input('enter the first no')\n",
    "num2 = input('enter the second no')\n",
    "sum = float(num1)/float(num2)\n",
    "print('the Division of{0} and {1} is {2} '.format(num1,num2,sum))"
   ]
  },
  {
   "cell_type": "code",
   "execution_count": 20,
   "metadata": {},
   "outputs": [
    {
     "name": "stdout",
     "output_type": "stream",
     "text": [
      "Enter first number:-7\n",
      "Enter second number:-5\n",
      "a is greater than b\n"
     ]
    }
   ],
   "source": [
    "a=(input('Enter first number:-'))\n",
    "b=(input('Enter second number:-'))\n",
    "if(a>b):\n",
    "     print('a is greater than b')\n",
    "elif(b>a):\n",
    "     print('b is greater than a')\n",
    "else:\n",
    "     print('both are equal')\n",
    "    \n",
    " "
   ]
  },
  {
   "cell_type": "code",
   "execution_count": null,
   "metadata": {},
   "outputs": [],
   "source": []
  },
  {
   "cell_type": "code",
   "execution_count": 23,
   "metadata": {},
   "outputs": [
    {
     "name": "stdout",
     "output_type": "stream",
     "text": [
      "HELLO TO ALL WELCOME TO THE WORLD OF PYTHON AND LETS ALL COME TOGETHER TO LEARN A NEW LANGUAGE \n"
     ]
    }
   ],
   "source": [
    "name='Hello to all Welcome to the World of python and lets all come together to Learn a new Language '\n",
    "print(name.upper())"
   ]
  },
  {
   "cell_type": "code",
   "execution_count": 24,
   "metadata": {},
   "outputs": [
    {
     "name": "stdout",
     "output_type": "stream",
     "text": [
      "hello to all welcome to the world of python and lets all come together to learn a new language\n"
     ]
    }
   ],
   "source": [
    "name='Hello to all Welcome to the World of python and lets all come together to Learn a new Language'\n",
    "print(name.lower())"
   ]
  },
  {
   "cell_type": "code",
   "execution_count": 32,
   "metadata": {},
   "outputs": [
    {
     "name": "stdout",
     "output_type": "stream",
     "text": [
      "num2 is greater\n"
     ]
    }
   ],
   "source": [
    "num1=4\n",
    "num2=6\n",
    "if(num1>=num2):\n",
    "    print(\"num1 is greater\")\n",
    "else:\n",
    "    print(\"num2 is greater\")"
   ]
  },
  {
   "cell_type": "code",
   "execution_count": 34,
   "metadata": {},
   "outputs": [
    {
     "name": "stdout",
     "output_type": "stream",
     "text": [
      "the largest number is 9\n"
     ]
    }
   ],
   "source": [
    "num1=4\n",
    "num2=6\n",
    "num3=9\n",
    "if(num1>=num2)and(num1>=num3):\n",
    "    largest=num1\n",
    "elif (num2>=num1)and(num2>=num3):\n",
    "    largest=num2\n",
    "else:\n",
    "        largest=num3\n",
    "        print(\"the largest number is\",largest)\n",
    "\n",
    "    "
   ]
  },
  {
   "cell_type": "code",
   "execution_count": 37,
   "metadata": {},
   "outputs": [
    {
     "name": "stdout",
     "output_type": "stream",
     "text": [
      "the lowest number is 2\n"
     ]
    }
   ],
   "source": [
    "num1=7\n",
    "num2=9\n",
    "num3=2\n",
    "if(num1<=num2)and(num1<=num3):\n",
    "    lowest=num1\n",
    "elif (num2<=num1)and(num2<=num3):\n",
    "    lowest=num2\n",
    "else:\n",
    "    lowest=num3\n",
    "    print(\"the lowest number is\",lowest)\n",
    "\n",
    "    "
   ]
  },
  {
   "cell_type": "code",
   "execution_count": 1,
   "metadata": {},
   "outputs": [
    {
     "name": "stdout",
     "output_type": "stream",
     "text": [
      "Enter first number: 7\n",
      "Enter second number: 8\n",
      "Enter third number: 9\n",
      "The largest number is 9\n"
     ]
    }
   ],
   "source": [
    "num1 = int(input(\"Enter first number: \"))\n",
    "num2 = int(input(\"Enter second number: \"))\n",
    "num3 = int(input(\"Enter third number: \"))\n",
    " \n",
    "if (num1 > num2) and (num1 > num3):\n",
    "   largest = num1\n",
    "elif (num2 > num1) and (num2 > num3):\n",
    "   largest = num2\n",
    "else:\n",
    "   largest = num3\n",
    " \n",
    "print(\"The largest number is\",largest)"
   ]
  },
  {
   "cell_type": "code",
   "execution_count": 3,
   "metadata": {},
   "outputs": [
    {
     "name": "stdout",
     "output_type": "stream",
     "text": [
      "Enter first number: 8\n",
      "Enter second number: 6\n",
      "Enter third number: 9\n",
      "The lower number is 6\n"
     ]
    }
   ],
   "source": [
    "num1 = int(input(\"Enter first number: \"))\n",
    "num2 = int(input(\"Enter second number: \"))\n",
    "num3 = int(input(\"Enter third number: \"))\n",
    " \n",
    "if (num1 < num2) and (num1 < num3):\n",
    "   lower = num1\n",
    "elif (num2 < num1) and (num2 < num3):\n",
    "   lower = num2\n",
    "else:\n",
    "   lower = num3\n",
    " \n",
    "print(\"The lower number is\",lower)"
   ]
  },
  {
   "cell_type": "code",
   "execution_count": 5,
   "metadata": {},
   "outputs": [
    {
     "name": "stdout",
     "output_type": "stream",
     "text": [
      "Enter first number: 7\n",
      "Enter second number: 8\n",
      "8 is greater\n"
     ]
    }
   ],
   "source": [
    "num1 = int(input(\"Enter first number: \"))\n",
    "num2 = int(input(\"Enter second number: \"))\n",
    "if(num1>=num2):\n",
    "    print(num1,\"is greater\")\n",
    "else:\n",
    "    print(num2,\"is greater\")\n"
   ]
  },
  {
   "cell_type": "code",
   "execution_count": 6,
   "metadata": {},
   "outputs": [
    {
     "name": "stdout",
     "output_type": "stream",
     "text": [
      "Enter first number: 7\n",
      "Enter second number: 8\n",
      "7 is Lowest\n"
     ]
    }
   ],
   "source": [
    "num1 = int(input(\"Enter first number: \"))\n",
    "num2 = int(input(\"Enter second number: \"))\n",
    "if(num1<=num2):\n",
    "    print(num1,\"is Lowest\")\n",
    "else:\n",
    "    print(num2,\"is Lowest\")\n"
   ]
  },
  {
   "cell_type": "code",
   "execution_count": 36,
   "metadata": {},
   "outputs": [
    {
     "name": "stdout",
     "output_type": "stream",
     "text": [
      "before swapping: 23 90\n",
      "after swapping: 90 23\n"
     ]
    }
   ],
   "source": [
    "num1=23\n",
    "num2=90\n",
    "temp=0\n",
    "print(\"before swapping:\",num1,num2)\n",
    "temp=num1\n",
    "num1=num2\n",
    "num2=temp\n",
    "print(\"after swapping:\",num1,num2)"
   ]
  },
  {
   "cell_type": "code",
   "execution_count": 7,
   "metadata": {},
   "outputs": [
    {
     "name": "stdout",
     "output_type": "stream",
     "text": [
      "Enter first number: 7\n",
      "Enter second number: 8\n",
      "before swapping: 7 8\n",
      "after swapping: 8 7\n"
     ]
    }
   ],
   "source": [
    "num1 = int(input(\"Enter first number: \"))\n",
    "num2 = int(input(\"Enter second number: \"))\n",
    "print(\"before swapping:\",num1,num2)\n",
    "temp=num1\n",
    "num1=num2\n",
    "num2=temp\n",
    "print(\"after swapping:\",num1,num2)"
   ]
  },
  {
   "cell_type": "code",
   "execution_count": 8,
   "metadata": {},
   "outputs": [
    {
     "name": "stdout",
     "output_type": "stream",
     "text": [
      "   September 2003\n",
      "Mo Tu We Th Fr Sa Su\n",
      " 1  2  3  4  5  6  7\n",
      " 8  9 10 11 12 13 14\n",
      "15 16 17 18 19 20 21\n",
      "22 23 24 25 26 27 28\n",
      "29 30\n",
      "\n"
     ]
    }
   ],
   "source": [
    "import calendar\n",
    "yy=2003 #year\n",
    "mm= 9 #month\n",
    "print(calendar.month(yy,mm))"
   ]
  },
  {
   "cell_type": "code",
   "execution_count": 9,
   "metadata": {},
   "outputs": [
    {
     "name": "stdout",
     "output_type": "stream",
     "text": [
      "value of pi is 3.141592653589793\n"
     ]
    }
   ],
   "source": [
    "import math\n",
    "print(\"value of pi is\",math.pi)"
   ]
  },
  {
   "cell_type": "code",
   "execution_count": 10,
   "metadata": {},
   "outputs": [
    {
     "name": "stdout",
     "output_type": "stream",
     "text": [
      "1\n",
      "2 3\n",
      "4 5 6 \n",
      "7 8 9 10\n",
      "11 12 13 14\n"
     ]
    }
   ],
   "source": [
    "print('1\\n2 3\\n4 5 6 \\n7 8 9 10\\n11 12 13 14')\n"
   ]
  },
  {
   "cell_type": "code",
   "execution_count": 21,
   "metadata": {},
   "outputs": [
    {
     "name": "stdout",
     "output_type": "stream",
     "text": [
      "\t ** \t **\n",
      "\t** ** \t** **\n",
      "\t ** \t ** \n",
      "\t** ** \t** **\n"
     ]
    }
   ],
   "source": [
    "print('\\t ** \\t **')\n",
    "print('\\t** ** \\t** **')\n",
    "print('\\t ** \\t ** ')\n",
    "print('\\t** ** \\t** **')"
   ]
  },
  {
   "cell_type": "code",
   "execution_count": null,
   "metadata": {},
   "outputs": [],
   "source": []
  }
 ],
 "metadata": {
  "kernelspec": {
   "display_name": "Python 3",
   "language": "python",
   "name": "python3"
  },
  "language_info": {
   "codemirror_mode": {
    "name": "ipython",
    "version": 3
   },
   "file_extension": ".py",
   "mimetype": "text/x-python",
   "name": "python",
   "nbconvert_exporter": "python",
   "pygments_lexer": "ipython3",
   "version": "3.8.5"
  }
 },
 "nbformat": 4,
 "nbformat_minor": 4
}
